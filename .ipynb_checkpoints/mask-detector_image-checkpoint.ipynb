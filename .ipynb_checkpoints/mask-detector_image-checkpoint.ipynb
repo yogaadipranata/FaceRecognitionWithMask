{
 "cells": [
  {
   "cell_type": "code",
   "execution_count": 1,
   "id": "393237f6",
   "metadata": {},
   "outputs": [],
   "source": [
    "import cv2\n",
    "import os\n",
    "import tensorflow as tf\n",
    "from tensorflow.keras.preprocessing.image import img_to_array\n",
    "from tensorflow.keras.models import load_model\n",
    "from tensorflow.keras.applications.mobilenet_v2 import preprocess_input\n",
    "import numpy as np"
   ]
  },
  {
   "cell_type": "code",
   "execution_count": 14,
   "id": "f6a01f06",
   "metadata": {},
   "outputs": [],
   "source": [
    "face_cascade = cv2.CascadeClassifier(\"haarcascade\\haarcascade_frontalface_default.xml\")\n",
    "mask_detection = tf.keras.models.load_model(\"data-training\\mask_detection.h5\")"
   ]
  },
  {
   "cell_type": "code",
   "execution_count": 15,
   "id": "b9b483a2",
   "metadata": {},
   "outputs": [],
   "source": [
    "txt_mask = \"MASK ON\"\n",
    "txt_no_mask = \"MASK OFF\"\n",
    "font = cv2.FONT_HERSHEY_SIMPLEX\n",
    "scale = 0.8"
   ]
  },
  {
   "cell_type": "code",
   "execution_count": 16,
   "id": "c7543403",
   "metadata": {},
   "outputs": [],
   "source": [
    "def predict(image):\n",
    "    face_frame = cv2.cvtColor(image, cv2.COLOR_BGR2RGB)\n",
    "    face_frame = cv2.resize(face_frame, (224, 224))\n",
    "    face_frame = img_to_array(face_frame)\n",
    "    face_frame = np.expand_dims(face_frame, axis = 0)\n",
    "    face_frame = preprocess_input(face_frame)\n",
    "    prediction = mask_detection.predict(face_frame)\n",
    "    return prediction[0][0]"
   ]
  },
  {
   "cell_type": "code",
   "execution_count": 25,
   "id": "0d7abcbb",
   "metadata": {},
   "outputs": [],
   "source": [
    "def detector(gray_image, frame):\n",
    "    wajah = face_cascade.detectMultiScale(gray_image, 1.1, 5)\n",
    "    for (x, y, w, h) in wajah:\n",
    "        roi_color = frame[y:y+h, x:x+w]\n",
    "        mask = predict(roi_color)\n",
    "    \n",
    "        if mask > 0.5:\n",
    "            cv2.rectangle(frame, (x,y), (x+w, y+h), (0, 255, 0), 2)\n",
    "            cv2.putText(frame, text = txt_mask, org = (x+50, y-100), fontFace = font, fontScale = scale, color = (0, 255, 0), thickness = 2)\n",
    "        \n",
    "        elif mask < 0.5:\n",
    "            cv2.rectangle(frame, (x, y), (x+w, y+h), (0, 0, 255), 2)\n",
    "            cv2.putText(frame, text = txt_no_mask, org = (x+50, y-100), fontFace = font, fontScale = scale, color = (0, 0, 255), thickness = 2)\n",
    "    return frame"
   ]
  },
  {
   "cell_type": "code",
   "execution_count": 29,
   "id": "135f9620",
   "metadata": {},
   "outputs": [],
   "source": [
    "video_capture = cv2.VideoCapture(1)\n",
    "\n",
    "while True:\n",
    "    ret, frame = video_capture.read()\n",
    "    gray_frame = cv2.cvtColor(frame, cv2.COLOR_BGR2GRAY)\n",
    "\n",
    "\n",
    "    detect = detector(gray_frame, frame)\n",
    "\n",
    "    cv2.imshow(\"Mask Detector\", detect)\n",
    "\n",
    "    if cv2.waitKey(1) & 0xFF == 27:\n",
    "        break\n",
    "\n",
    "video_capture.release()\n",
    "cv2.destroyAllWindows()"
   ]
  },
  {
   "cell_type": "code",
   "execution_count": null,
   "id": "973365e9",
   "metadata": {},
   "outputs": [],
   "source": []
  }
 ],
 "metadata": {
  "kernelspec": {
   "display_name": "Python 3 (ipykernel)",
   "language": "python",
   "name": "python3"
  },
  "language_info": {
   "codemirror_mode": {
    "name": "ipython",
    "version": 3
   },
   "file_extension": ".py",
   "mimetype": "text/x-python",
   "name": "python",
   "nbconvert_exporter": "python",
   "pygments_lexer": "ipython3",
   "version": "3.9.7"
  }
 },
 "nbformat": 4,
 "nbformat_minor": 5
}
